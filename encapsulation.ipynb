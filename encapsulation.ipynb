{
  "nbformat": 4,
  "nbformat_minor": 0,
  "metadata": {
    "colab": {
      "provenance": [],
      "authorship_tag": "ABX9TyPiXM3R47oVBRmb6umSIvV0"
    },
    "kernelspec": {
      "name": "python3",
      "display_name": "Python 3"
    },
    "language_info": {
      "name": "python"
    }
  },
  "cells": [
    {
      "cell_type": "code",
      "execution_count": 1,
      "metadata": {
        "colab": {
          "base_uri": "https://localhost:8080/"
        },
        "id": "-I1ulU988QK9",
        "outputId": "1d45b527-04e6-480e-87fb-fe5ff6caa17b"
      },
      "outputs": [
        {
          "output_type": "stream",
          "name": "stdout",
          "text": [
            "Deposited12000\n",
            "12010\n"
          ]
        }
      ],
      "source": [
        "class bank:\n",
        "    def __init__(self,balance):\n",
        "        self.balance=balance\n",
        "    def deposit(self,amount):\n",
        "        self.balance +=amount\n",
        "        print(f\"Deposited{amount}\")\n",
        "\n",
        "    def get_balance(self):\n",
        "        return self.balance\n",
        "account = bank(10)\n",
        "account.deposit(12000)\n",
        "print(account.get_balance())"
      ]
    },
    {
      "cell_type": "code",
      "source": [
        "class bank:\n",
        "    def __init__(self,balance):\n",
        "        self.balance=balance\n",
        "    def deposit(self,amount):\n",
        "        self.balance +=amount\n",
        "        print(f\"Deposited{amount}\")\n",
        "\n",
        "    def get_balance(self):\n",
        "        return self.balance\n",
        "account = bank(10)\n",
        "account.deposit(12000)\n",
        "account.deposit(12)\n",
        "print(account.get_balance())"
      ],
      "metadata": {
        "colab": {
          "base_uri": "https://localhost:8080/"
        },
        "id": "hQpQlSt28ou7",
        "outputId": "7c67d4f4-a7cc-4df3-8f95-b70b63711c68"
      },
      "execution_count": 3,
      "outputs": [
        {
          "output_type": "stream",
          "name": "stdout",
          "text": [
            "Deposited12000\n",
            "Deposited12\n",
            "12022\n"
          ]
        }
      ]
    }
  ]
}