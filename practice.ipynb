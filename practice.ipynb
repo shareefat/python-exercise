{
  "nbformat": 4,
  "nbformat_minor": 0,
  "metadata": {
    "colab": {
      "provenance": [],
      "authorship_tag": "ABX9TyPw6wXg0e2MbQHywDD0RH76"
    },
    "kernelspec": {
      "name": "python3",
      "display_name": "Python 3"
    },
    "language_info": {
      "name": "python"
    }
  },
  "cells": [
    {
      "cell_type": "markdown",
      "source": [
        "**IF ELSE WHILE**"
      ],
      "metadata": {
        "id": "1av6wTcLrPxg"
      }
    },
    {
      "cell_type": "code",
      "execution_count": 3,
      "metadata": {
        "colab": {
          "base_uri": "https://localhost:8080/"
        },
        "id": "fK3XkpRMrBN9",
        "outputId": "b694418a-6f21-446a-ffe2-6d12b6ccc8fa"
      },
      "outputs": [
        {
          "output_type": "stream",
          "name": "stdout",
          "text": [
            "Enter the temperature today: 30\n",
            "Temp is cold\n"
          ]
        }
      ],
      "source": [
        "temp = int(input(\"Enter the temperature today: \"))\n",
        "if temp > 30:\n",
        "  print(\"The Temp in hot\")\n",
        "else:\n",
        "  print(\"Temp is cold\")"
      ]
    },
    {
      "cell_type": "code",
      "source": [
        "a= int (input(\"enter the number\"))\n",
        "b= int (input(\"enter the number\"))\n",
        "print(\"1. add\")\n",
        "print(\"2. sub\")\n",
        "c= int(input(\"choose 1 or 2\"))\n",
        "if c==1:\n",
        "  print(a+b)\n",
        "elif c==2:\n",
        "  print(a-b)\n",
        "else:\n",
        "  print(\"Not valid\")"
      ],
      "metadata": {
        "colab": {
          "base_uri": "https://localhost:8080/"
        },
        "id": "nrjzZmHd2bjD",
        "outputId": "08dda904-6fb2-40e8-cdca-0f7f29da8642"
      },
      "execution_count": 7,
      "outputs": [
        {
          "output_type": "stream",
          "name": "stdout",
          "text": [
            "enter the number2\n",
            "enter the number1\n",
            "1. add\n",
            "2. sub\n",
            "choose 1 or 22\n",
            "1\n"
          ]
        }
      ]
    }
  ]
}