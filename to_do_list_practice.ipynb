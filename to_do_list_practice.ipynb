{
  "nbformat": 4,
  "nbformat_minor": 0,
  "metadata": {
    "colab": {
      "provenance": [],
      "authorship_tag": "ABX9TyNFqnaCUEopjZzX7F2IbveK"
    },
    "kernelspec": {
      "name": "python3",
      "display_name": "Python 3"
    },
    "language_info": {
      "name": "python"
    }
  },
  "cells": [
    {
      "cell_type": "code",
      "execution_count": 6,
      "metadata": {
        "colab": {
          "base_uri": "https://localhost:8080/"
        },
        "id": "89PFvxgxzAGt",
        "outputId": "19641dea-695c-4693-a397-d8d3e8848c71"
      },
      "outputs": [
        {
          "output_type": "stream",
          "name": "stdout",
          "text": [
            "enter the task : goto school\n",
            "your to do list is :\n",
            "1.goto school\n"
          ]
        }
      ],
      "source": [
        "# To do List\n",
        "task =[]\n",
        "tasks = input(\"enter the task : \")\n",
        "task.append(tasks)\n",
        "print(\"your to do list is :\")\n",
        "for i,t in enumerate(task , 1):\n",
        "  print(f\"{i}.{t}\")"
      ]
    },
    {
      "cell_type": "code",
      "source": [
        "# To do List\n",
        "task =[\"goto school\", \"goto store\", \"buy pen\",\"write your work\"]\n",
        "print(\"your to do list is :\")\n",
        "for i,t in enumerate(task , 1):\n",
        "  print(f\"{i}.{t}\")"
      ],
      "metadata": {
        "colab": {
          "base_uri": "https://localhost:8080/"
        },
        "id": "3yZBHdzT0Z8Z",
        "outputId": "d48a7079-7e47-4bdd-8453-0de2521cc6eb"
      },
      "execution_count": 7,
      "outputs": [
        {
          "output_type": "stream",
          "name": "stdout",
          "text": [
            "your to do list is :\n",
            "1.goto school\n",
            "2.goto store\n",
            "3.buy pen\n",
            "4.write your work\n"
          ]
        }
      ]
    },
    {
      "cell_type": "code",
      "source": [
        "tasks=[\"goto shop\",\"goto bank\",\"goto for trip\"]\n",
        "search = input(\"enter the keyword: \").lower()\n",
        "result= [t for t in tasks if search in t.lower()]\n",
        "print(\"search result: \", result if result else \"No task\")"
      ],
      "metadata": {
        "colab": {
          "base_uri": "https://localhost:8080/"
        },
        "id": "14nWLYep1nPq",
        "outputId": "915ee495-10b7-4543-a5ab-84f806ff5202"
      },
      "execution_count": 11,
      "outputs": [
        {
          "output_type": "stream",
          "name": "stdout",
          "text": [
            "enter the keyword: BANK\n",
            "search result:  ['goto bank']\n"
          ]
        }
      ]
    },
    {
      "cell_type": "code",
      "source": [
        "tasks=[\"goto shop\",\"goto bank\",\"goto for trip\"]\n",
        "search = input(\"enter the keyword: \").lower()\n",
        "result= [t for t in tasks if search in t.lower()]\n",
        "print(\"search result: \", result if result else \"No task\")"
      ],
      "metadata": {
        "colab": {
          "base_uri": "https://localhost:8080/"
        },
        "id": "K7sNs5Wr3sHT",
        "outputId": "eaa63b66-616d-4d48-8fd4-932ded172919"
      },
      "execution_count": 12,
      "outputs": [
        {
          "output_type": "stream",
          "name": "stdout",
          "text": [
            "enter the keyword: job\n",
            "search result:  No task\n"
          ]
        }
      ]
    }
  ]
}