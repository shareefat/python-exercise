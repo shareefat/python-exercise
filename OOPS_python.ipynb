{
  "nbformat": 4,
  "nbformat_minor": 0,
  "metadata": {
    "colab": {
      "provenance": [],
      "authorship_tag": "ABX9TyMUO+KCOWQ8xyeBZ0hXJNwz"
    },
    "kernelspec": {
      "name": "python3",
      "display_name": "Python 3"
    },
    "language_info": {
      "name": "python"
    }
  },
  "cells": [
    {
      "cell_type": "markdown",
      "source": [
        "objects , class"
      ],
      "metadata": {
        "id": "oHSjwNyVZwkz"
      }
    },
    {
      "cell_type": "code",
      "execution_count": null,
      "metadata": {
        "colab": {
          "base_uri": "https://localhost:8080/"
        },
        "id": "OjZ8zuRVZfeW",
        "outputId": "33952613-317e-41e0-9ab6-b11a477b193e"
      },
      "outputs": [
        {
          "output_type": "stream",
          "name": "stdout",
          "text": [
            "Tommy says Woof\n",
            "Rocky says Woof\n"
          ]
        }
      ],
      "source": [
        "class Dog:\n",
        "    def __init__(self, name, color):\n",
        "        self.name = name\n",
        "        self.color = color\n",
        "\n",
        "    def bark(self):\n",
        "        print(self.name, \"says Woof\")\n",
        "\n",
        "# Objects\n",
        "dog1 = Dog(\"Tommy\", \"Brown\")\n",
        "dog2 = Dog(\"Rocky\", \"Black\")\n",
        "\n",
        "dog1.bark()\n",
        "dog2.bark()"
      ]
    },
    {
      "cell_type": "markdown",
      "source": [
        "Inheritance"
      ],
      "metadata": {
        "id": "3jSpBj3dZ4WJ"
      }
    },
    {
      "cell_type": "code",
      "source": [
        "# Parent Class\n",
        "class Vehicle:\n",
        "    def __init__(self, brand):\n",
        "        self.brand = brand\n",
        "\n",
        "    def start(self):\n",
        "        print(self.brand, \"is starting \")\n",
        "\n",
        "# Child Class\n",
        "class Car(Vehicle):\n",
        "    def drive(self):\n",
        "        print(self.brand, \"is driving on the road \")\n",
        "\n",
        "# Child Class\n",
        "class Bike(Vehicle):\n",
        "    def ride(self):\n",
        "        print(self.brand, \"is zooming on two wheels \")\n",
        "\n",
        "car1 = Car(\"Tesla\")\n",
        "bike1 = Bike(\"Yamaha\")\n",
        "\n",
        "car1.start()\n",
        "car1.drive()\n",
        "\n",
        "bike1.start()\n",
        "bike1.ride()"
      ],
      "metadata": {
        "colab": {
          "base_uri": "https://localhost:8080/"
        },
        "id": "dmcuenXdZ38R",
        "outputId": "b0dbe661-dde9-4b84-d139-1a1133823cbe"
      },
      "execution_count": null,
      "outputs": [
        {
          "output_type": "stream",
          "name": "stdout",
          "text": [
            "Tesla is starting \n",
            "Tesla is driving on the road \n",
            "Yamaha is starting \n",
            "Yamaha is zooming on two wheels \n"
          ]
        }
      ]
    },
    {
      "cell_type": "markdown",
      "source": [
        "Polymorphism"
      ],
      "metadata": {
        "id": "1NzwBgiBaaN5"
      }
    },
    {
      "cell_type": "code",
      "source": [
        "class Character:\n",
        "    def attack(self):\n",
        "        pass\n",
        "\n",
        "class Wizard(Character):\n",
        "    def attack(self):\n",
        "        print(\"Wizard attacks with magic\")\n",
        "\n",
        "class Warrior(Character):\n",
        "    def attack(self):\n",
        "        print(\"Warrior attacks with sword \")\n",
        "players = [Wizard(), Warrior()]\n",
        "\n",
        "for player in players:\n",
        "    player.attack()"
      ],
      "metadata": {
        "colab": {
          "base_uri": "https://localhost:8080/"
        },
        "id": "s2rEmTbIaT9m",
        "outputId": "36bd4be3-4222-4c81-a052-e3d203d18ba0"
      },
      "execution_count": null,
      "outputs": [
        {
          "output_type": "stream",
          "name": "stdout",
          "text": [
            "Wizard attacks with magic\n",
            "Warrior attacks with sword \n"
          ]
        }
      ]
    },
    {
      "cell_type": "markdown",
      "source": [
        "Encapsulation"
      ],
      "metadata": {
        "id": "_mzZhMTaapiO"
      }
    },
    {
      "cell_type": "code",
      "source": [
        "class BankAccount:\n",
        "    def __init__(self, owner, balance):\n",
        "        self.owner = owner\n",
        "        self.__balance = balance\n",
        "\n",
        "    def deposit(self, amount):\n",
        "        self.__balance += amount\n",
        "        print(amount, \"added New Balance:\", self.__balance)\n",
        "\n",
        "    def withdraw(self, amount):\n",
        "        if amount <= self.__balance:\n",
        "            self.__balance -= amount\n",
        "            print(amount, \"withdrawn New Balance:\", self.__balance)\n",
        "        else:\n",
        "            print(\"Not enough money\")\n",
        "\n",
        "    def check_balance(self):\n",
        "        print(\"Account balance for\", self.owner, \"is:\", self.__balance)\n",
        "account1 = BankAccount(\"Shareef\", 1000)\n",
        "account1.deposit(500)\n",
        "account1.withdraw(300)\n",
        "account1.check_balance()\n",
        "\n",
        "print(account1.owner)"
      ],
      "metadata": {
        "colab": {
          "base_uri": "https://localhost:8080/"
        },
        "id": "pHXIY9H2aqCu",
        "outputId": "b9bbb3a2-d394-401b-d411-41aff91049ee"
      },
      "execution_count": null,
      "outputs": [
        {
          "output_type": "stream",
          "name": "stdout",
          "text": [
            "500 added New Balance: 1500\n",
            "300 withdrawn New Balance: 1200\n",
            "Account balance for Shareef is: 1200\n",
            "Shareef\n"
          ]
        }
      ]
    },
    {
      "cell_type": "markdown",
      "source": [
        "Abstraction"
      ],
      "metadata": {
        "id": "i7cAGWsPcC8Y"
      }
    },
    {
      "cell_type": "code",
      "source": [
        "from abc import ABC, abstractmethod\n",
        "class MusicPlayer(ABC):\n",
        "    @abstractmethod\n",
        "    def play(self):\n",
        "        pass\n",
        "class MP3Player(MusicPlayer):\n",
        "    def play(self):\n",
        "        print(\"Playing MP3 music \")\n",
        "\n",
        "class CDPlayer(MusicPlayer):\n",
        "    def play(self):\n",
        "        print(\"Playing CD music \")\n",
        "\n",
        "class Radio(MusicPlayer):\n",
        "    def play(self):\n",
        "        print(\"Playing Radio music\")\n",
        "players = [MP3Player(), CDPlayer(), Radio()]\n",
        "\n",
        "for p in players:\n",
        "    p.play()\n"
      ],
      "metadata": {
        "colab": {
          "base_uri": "https://localhost:8080/"
        },
        "id": "f3jAkmFZcDh8",
        "outputId": "1ea5001d-c2d0-4187-f790-d61c669b1558"
      },
      "execution_count": null,
      "outputs": [
        {
          "output_type": "stream",
          "name": "stdout",
          "text": [
            "Playing MP3 music \n",
            "Playing CD music \n",
            "Playing Radio music\n"
          ]
        }
      ]
    }
  ]
}