{
  "nbformat": 4,
  "nbformat_minor": 0,
  "metadata": {
    "colab": {
      "provenance": [],
      "authorship_tag": "ABX9TyN9cQEJE7Uz0MwUPeZ/C1hZ",
      "include_colab_link": true
    },
    "kernelspec": {
      "name": "python3",
      "display_name": "Python 3"
    },
    "language_info": {
      "name": "python"
    }
  },
  "cells": [
    {
      "cell_type": "markdown",
      "metadata": {
        "id": "view-in-github",
        "colab_type": "text"
      },
      "source": [
        "<a href=\"https://colab.research.google.com/github/shareefat/python-exercise/blob/main/exception_handling.ipynb\" target=\"_parent\"><img src=\"https://colab.research.google.com/assets/colab-badge.svg\" alt=\"Open In Colab\"/></a>"
      ]
    },
    {
      "cell_type": "code",
      "source": [
        "try:\n",
        "  num = int(input(\"enter the number\"))\n",
        "  print(\"you entered :\", num)\n",
        "except ValueError:\n",
        "  print(\"its not a number : \")"
      ],
      "metadata": {
        "colab": {
          "base_uri": "https://localhost:8080/"
        },
        "id": "T7y8xOtc2DNg",
        "outputId": "b5ab9c1c-7f65-4d64-f46d-31e4597609ea"
      },
      "execution_count": 17,
      "outputs": [
        {
          "output_type": "stream",
          "name": "stdout",
          "text": [
            "enter the number12\n",
            "you entered : 12\n"
          ]
        }
      ]
    },
    {
      "cell_type": "code",
      "source": [
        "try:\n",
        "  a = int(input(\"enter the value\"))\n",
        "  b= int(input(\"enter the sec value\"))\n",
        "  result = a/b\n",
        "  print(\"the result is : \",result)\n",
        "except ZeroDivisionError:\n",
        "  print(\"the value is false\")"
      ],
      "metadata": {
        "colab": {
          "base_uri": "https://localhost:8080/"
        },
        "id": "qILsPwl44BPR",
        "outputId": "9d52c914-8abc-457b-ef8c-daf397fd5a67"
      },
      "execution_count": 23,
      "outputs": [
        {
          "output_type": "stream",
          "name": "stdout",
          "text": [
            "enter the value7\n",
            "enter the sec value9\n",
            "the result is :  0.7777777777777778\n"
          ]
        }
      ]
    },
    {
      "cell_type": "code",
      "source": [
        "try:\n",
        "  num=int(input(\"enter the number\"))\n",
        "except ValueError:\n",
        "  print(\"invalid number\")\n",
        "else:\n",
        "  print(\"successfull\")"
      ],
      "metadata": {
        "colab": {
          "base_uri": "https://localhost:8080/"
        },
        "id": "gZK9HOJf77vW",
        "outputId": "6294565c-f53e-490e-ce03-42c01eb35357"
      },
      "execution_count": 24,
      "outputs": [
        {
          "output_type": "stream",
          "name": "stdout",
          "text": [
            "enter the number2\n",
            "successfull\n"
          ]
        }
      ]
    },
    {
      "cell_type": "code",
      "source": [
        "try:\n",
        "  num=int(input(\"enter the number\"))\n",
        "except ValueError:\n",
        "  print(\"invalid number\")\n",
        "else:\n",
        "  print(\"successfull\")"
      ],
      "metadata": {
        "colab": {
          "base_uri": "https://localhost:8080/"
        },
        "id": "SliHoIbb8N9v",
        "outputId": "db0b7687-d86a-43dc-ea01-d85bc80645cf"
      },
      "execution_count": 25,
      "outputs": [
        {
          "output_type": "stream",
          "name": "stdout",
          "text": [
            "enter the numberaa\n",
            "invalid number\n"
          ]
        }
      ]
    }
  ]
}