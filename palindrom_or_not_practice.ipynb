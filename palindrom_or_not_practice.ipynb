{
  "nbformat": 4,
  "nbformat_minor": 0,
  "metadata": {
    "colab": {
      "provenance": [],
      "authorship_tag": "ABX9TyOs5REQLEN0WtZQxHteURSi"
    },
    "kernelspec": {
      "name": "python3",
      "display_name": "Python 3"
    },
    "language_info": {
      "name": "python"
    }
  },
  "cells": [
    {
      "cell_type": "code",
      "execution_count": 2,
      "metadata": {
        "colab": {
          "base_uri": "https://localhost:8080/"
        },
        "id": "xIC1AvGCqB-u",
        "outputId": "acc26f8e-eaa8-43f4-bd28-f52f955f144c"
      },
      "outputs": [
        {
          "output_type": "stream",
          "name": "stdout",
          "text": [
            "Enter the Word : shareefataz\n",
            "The Word is Not a Palindrome\n"
          ]
        }
      ],
      "source": [
        "word = input(\"Enter the Word : \")\n",
        "if word == word[::-1]:\n",
        "  print(\"The Word Is Palindrome\")\n",
        "else:\n",
        "  print(\"The Word is Not a Palindrome\")"
      ]
    },
    {
      "cell_type": "code",
      "source": [
        "word = input(\"Enter the Word : \")\n",
        "if word == word[::-1]:\n",
        "  print(\"The Word Is Palindrome\")\n",
        "else:\n",
        "  print(\"The Word is Not a Palindrome\")"
      ],
      "metadata": {
        "colab": {
          "base_uri": "https://localhost:8080/"
        },
        "id": "xlm5IeRxqf3q",
        "outputId": "04e52f96-fb63-4e34-c890-62d847d75dde"
      },
      "execution_count": 3,
      "outputs": [
        {
          "output_type": "stream",
          "name": "stdout",
          "text": [
            "Enter the Word : sha\n",
            "The Word is Not a Palindrome\n"
          ]
        }
      ]
    },
    {
      "cell_type": "code",
      "source": [
        "word = input(\"Enter the Word : \")\n",
        "if word == word[::-1]:\n",
        "  print(\"The Word Is Palindrome\")\n",
        "else:\n",
        "  print(\"The Word is Not a Palindrome\")"
      ],
      "metadata": {
        "colab": {
          "base_uri": "https://localhost:8080/"
        },
        "id": "sR1sGkOYqmEU",
        "outputId": "9e00ca3d-6705-410c-e617-9801aa546a30"
      },
      "execution_count": 4,
      "outputs": [
        {
          "output_type": "stream",
          "name": "stdout",
          "text": [
            "Enter the Word : mam\n",
            "The Word Is Palindrome\n"
          ]
        }
      ]
    },
    {
      "cell_type": "code",
      "source": [
        "word = input(\"Enter the Word : \")\n",
        "if word == word[::-1]:\n",
        "  print(\"The Word Is Palindrome\")\n",
        "else:\n",
        "  print(\"The Word is Not a Palindrome\")"
      ],
      "metadata": {
        "colab": {
          "base_uri": "https://localhost:8080/"
        },
        "id": "TqT-z5xGqnfS",
        "outputId": "c6702282-1ef0-4b92-c892-824d21c2629b"
      },
      "execution_count": 5,
      "outputs": [
        {
          "output_type": "stream",
          "name": "stdout",
          "text": [
            "Enter the Word : madam\n",
            "The Word Is Palindrome\n"
          ]
        }
      ]
    },
    {
      "cell_type": "markdown",
      "source": [
        "another Methord using def"
      ],
      "metadata": {
        "id": "kgjE-H5Qqv8-"
      }
    },
    {
      "cell_type": "code",
      "source": [
        "def palindrome(word):\n",
        "  if word == word[::-1]:\n",
        "    print(\"The Word Is Palindrome\")\n",
        "  else:\n",
        "    print(\"The Word is Not a Palindrome\")\n",
        "p1 = input(\"Enter the Word : \")\n",
        "palindrome(p1)"
      ],
      "metadata": {
        "colab": {
          "base_uri": "https://localhost:8080/"
        },
        "id": "ttFOPINzqriZ",
        "outputId": "182e0d28-a50f-42c1-97f6-b182b99f3f5c"
      },
      "execution_count": 11,
      "outputs": [
        {
          "output_type": "stream",
          "name": "stdout",
          "text": [
            "Enter the Word : mam\n",
            "The Word Is Palindrome\n"
          ]
        }
      ]
    },
    {
      "cell_type": "code",
      "source": [
        "def palindrome(word):\n",
        "  if word == word[::-1]:\n",
        "    print(\"The Word Is Palindrome\")\n",
        "  else:\n",
        "    print(\"The Word is Not a Palindrome\")\n",
        "p1 = input(\"Enter the Word : \")\n",
        "palindrome(p1)"
      ],
      "metadata": {
        "colab": {
          "base_uri": "https://localhost:8080/"
        },
        "id": "M_77NnLPrMPq",
        "outputId": "c52b9328-a5c4-46d9-d92b-bd03cfaff15d"
      },
      "execution_count": 12,
      "outputs": [
        {
          "output_type": "stream",
          "name": "stdout",
          "text": [
            "Enter the Word : sir\n",
            "The Word is Not a Palindrome\n"
          ]
        }
      ]
    }
  ]
}