{
  "nbformat": 4,
  "nbformat_minor": 0,
  "metadata": {
    "colab": {
      "provenance": [],
      "authorship_tag": "ABX9TyMai5jQtrY5kTE2HEv1Dcqj"
    },
    "kernelspec": {
      "name": "python3",
      "display_name": "Python 3"
    },
    "language_info": {
      "name": "python"
    }
  },
  "cells": [
    {
      "cell_type": "code",
      "execution_count": 1,
      "metadata": {
        "colab": {
          "base_uri": "https://localhost:8080/"
        },
        "id": "IcpUKaoLadEL",
        "outputId": "9df07711-08c0-43b9-cf4a-ff1044c09cb4"
      },
      "outputs": [
        {
          "output_type": "stream",
          "name": "stdout",
          "text": [
            "77\n"
          ]
        }
      ],
      "source": [
        "class calculator:\n",
        "    def add(self , a,b):\n",
        "        return a+b\n",
        "calc = calculator()\n",
        "print(calc.add(21,56))"
      ]
    },
    {
      "cell_type": "code",
      "source": [
        "class calculator:\n",
        "    def add(self , a,b):\n",
        "        return a+b\n",
        "calc = calculator()\n",
        "num1 = int(input(\"Enter your Frist Number : \"))\n",
        "num2 = int(input(\"Enter the Second Number : \"))\n",
        "print(\"sum =\",calc.add(num1,num2))"
      ],
      "metadata": {
        "colab": {
          "base_uri": "https://localhost:8080/"
        },
        "id": "t6-O6aGXarC5",
        "outputId": "bbfe0922-0e7a-43c4-b2f8-d44cbc65d7bc"
      },
      "execution_count": 2,
      "outputs": [
        {
          "output_type": "stream",
          "name": "stdout",
          "text": [
            "Enter your Frist Number : 200\n",
            "Enter the Second Number : 300\n",
            "sum = 500\n"
          ]
        }
      ]
    },
    {
      "cell_type": "code",
      "source": [
        "class student:\n",
        "  def __init__(self,name,age,rollnum):\n",
        "    self.name=name\n",
        "    self.age=age\n",
        "    self.rollnum =rollnum\n",
        "s1=student(\"shareef\",23,10)\n",
        "s2=student(\"adil\",23,3)\n",
        "print(s1. __dict__)\n",
        "print(s2. __dict__)"
      ],
      "metadata": {
        "colab": {
          "base_uri": "https://localhost:8080/"
        },
        "id": "ySowoPo4axMc",
        "outputId": "f340e073-314c-4907-e41f-dc6638f65e31"
      },
      "execution_count": 9,
      "outputs": [
        {
          "output_type": "stream",
          "name": "stdout",
          "text": [
            "{'name': 'shareef', 'age': 23, 'rollnum': 10}\n",
            "{'name': 'adil', 'age': 23, 'rollnum': 3}\n"
          ]
        }
      ]
    },
    {
      "cell_type": "code",
      "source": [
        "class student:\n",
        "  def __init__(self,name,age,rollnum):\n",
        "    self.name=name\n",
        "    self.age=age\n",
        "    self.rollnum =rollnum\n",
        "  def __str__(self):\n",
        "    return f\"name :{self.name}, Age : {self.age}, Rollnum:{self.rollnum}\"\n",
        "s1=student(\"shareef\",23,10)\n",
        "s2=student(\"adil\",23,3)\n",
        "print(s1)\n",
        "print(s2)"
      ],
      "metadata": {
        "colab": {
          "base_uri": "https://localhost:8080/"
        },
        "id": "dNXrP1LgcIIS",
        "outputId": "10cb3aad-2f56-49a8-bb1c-66fb538f9731"
      },
      "execution_count": 11,
      "outputs": [
        {
          "output_type": "stream",
          "name": "stdout",
          "text": [
            "name :shareef, Age : 23, Rollnum:10\n",
            "name :adil, Age : 23, Rollnum:3\n"
          ]
        }
      ]
    }
  ]
}